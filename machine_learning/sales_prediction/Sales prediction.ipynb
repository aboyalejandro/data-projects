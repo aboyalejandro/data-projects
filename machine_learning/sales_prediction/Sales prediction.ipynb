{
 "cells": [
  {
   "cell_type": "markdown",
   "id": "68282d8d",
   "metadata": {},
   "source": [
    "- ~~Date to datetime & to ordinal~~\n",
    "- ~~Clean school_holiday to 1,2,3,4 instead of 0,a,b,c. Is this important?~~\n",
    "- ~~Remove sundays and open 0~~\n",
    "- Deliverables: Validation -> index and sales / ~~Pickle version~~ - Requirements.txt file - Separated feature engineering \n",
    "- Test in another computer "
   ]
  },
  {
   "cell_type": "code",
   "execution_count": 1,
   "id": "d22c720d",
   "metadata": {},
   "outputs": [],
   "source": [
    "import pandas as pd\n",
    "import numpy as np\n",
    "import seaborn as sns\n",
    "from sklearn.model_selection import train_test_split\n",
    "import pickle\n",
    "#pip install xgboost\n",
    "import xgboost\n",
    "from sklearn.metrics import r2_score"
   ]
  },
  {
   "cell_type": "code",
   "execution_count": 2,
   "id": "9b72b149",
   "metadata": {},
   "outputs": [
    {
     "data": {
      "text/html": [
       "<div>\n",
       "<style scoped>\n",
       "    .dataframe tbody tr th:only-of-type {\n",
       "        vertical-align: middle;\n",
       "    }\n",
       "\n",
       "    .dataframe tbody tr th {\n",
       "        vertical-align: top;\n",
       "    }\n",
       "\n",
       "    .dataframe thead th {\n",
       "        text-align: right;\n",
       "    }\n",
       "</style>\n",
       "<table border=\"1\" class=\"dataframe\">\n",
       "  <thead>\n",
       "    <tr style=\"text-align: right;\">\n",
       "      <th></th>\n",
       "      <th>store_ID</th>\n",
       "      <th>day_of_week</th>\n",
       "      <th>date</th>\n",
       "      <th>nb_customers_on_day</th>\n",
       "      <th>open</th>\n",
       "      <th>promotion</th>\n",
       "      <th>state_holiday</th>\n",
       "      <th>school_holiday</th>\n",
       "      <th>sales</th>\n",
       "    </tr>\n",
       "    <tr>\n",
       "      <th>index</th>\n",
       "      <th></th>\n",
       "      <th></th>\n",
       "      <th></th>\n",
       "      <th></th>\n",
       "      <th></th>\n",
       "      <th></th>\n",
       "      <th></th>\n",
       "      <th></th>\n",
       "      <th></th>\n",
       "    </tr>\n",
       "  </thead>\n",
       "  <tbody>\n",
       "    <tr>\n",
       "      <th>425390</th>\n",
       "      <td>366</td>\n",
       "      <td>4</td>\n",
       "      <td>2013-04-18</td>\n",
       "      <td>517</td>\n",
       "      <td>1</td>\n",
       "      <td>0</td>\n",
       "      <td>0</td>\n",
       "      <td>0</td>\n",
       "      <td>4422</td>\n",
       "    </tr>\n",
       "    <tr>\n",
       "      <th>291687</th>\n",
       "      <td>394</td>\n",
       "      <td>6</td>\n",
       "      <td>2015-04-11</td>\n",
       "      <td>694</td>\n",
       "      <td>1</td>\n",
       "      <td>0</td>\n",
       "      <td>0</td>\n",
       "      <td>0</td>\n",
       "      <td>8297</td>\n",
       "    </tr>\n",
       "    <tr>\n",
       "      <th>411278</th>\n",
       "      <td>807</td>\n",
       "      <td>4</td>\n",
       "      <td>2013-08-29</td>\n",
       "      <td>970</td>\n",
       "      <td>1</td>\n",
       "      <td>1</td>\n",
       "      <td>0</td>\n",
       "      <td>0</td>\n",
       "      <td>9729</td>\n",
       "    </tr>\n",
       "    <tr>\n",
       "      <th>664714</th>\n",
       "      <td>802</td>\n",
       "      <td>2</td>\n",
       "      <td>2013-05-28</td>\n",
       "      <td>473</td>\n",
       "      <td>1</td>\n",
       "      <td>1</td>\n",
       "      <td>0</td>\n",
       "      <td>0</td>\n",
       "      <td>6513</td>\n",
       "    </tr>\n",
       "    <tr>\n",
       "      <th>540835</th>\n",
       "      <td>726</td>\n",
       "      <td>4</td>\n",
       "      <td>2013-10-10</td>\n",
       "      <td>1068</td>\n",
       "      <td>1</td>\n",
       "      <td>1</td>\n",
       "      <td>0</td>\n",
       "      <td>0</td>\n",
       "      <td>10882</td>\n",
       "    </tr>\n",
       "  </tbody>\n",
       "</table>\n",
       "</div>"
      ],
      "text/plain": [
       "        store_ID  day_of_week        date  nb_customers_on_day  open  \\\n",
       "index                                                                  \n",
       "425390       366            4  2013-04-18                  517     1   \n",
       "291687       394            6  2015-04-11                  694     1   \n",
       "411278       807            4  2013-08-29                  970     1   \n",
       "664714       802            2  2013-05-28                  473     1   \n",
       "540835       726            4  2013-10-10                 1068     1   \n",
       "\n",
       "        promotion state_holiday  school_holiday  sales  \n",
       "index                                                   \n",
       "425390          0             0               0   4422  \n",
       "291687          0             0               0   8297  \n",
       "411278          1             0               0   9729  \n",
       "664714          1             0               0   6513  \n",
       "540835          1             0               0  10882  "
      ]
     },
     "metadata": {},
     "output_type": "display_data"
    },
    {
     "data": {
      "text/plain": [
       "(640840, 9)"
      ]
     },
     "execution_count": 2,
     "metadata": {},
     "output_type": "execute_result"
    }
   ],
   "source": [
    "sales = pd.read_csv('sales.csv')\n",
    "sales.rename(columns={'Unnamed: 0':'index'},inplace=True)\n",
    "sales.set_index('index',inplace=True)\n",
    "display(sales.head())\n",
    "sales.shape"
   ]
  },
  {
   "cell_type": "code",
   "execution_count": 3,
   "id": "3e190dfd",
   "metadata": {},
   "outputs": [
    {
     "data": {
      "text/plain": [
       "store_ID                int64\n",
       "day_of_week             int64\n",
       "date                   object\n",
       "nb_customers_on_day     int64\n",
       "open                    int64\n",
       "promotion               int64\n",
       "state_holiday          object\n",
       "school_holiday          int64\n",
       "sales                   int64\n",
       "dtype: object"
      ]
     },
     "execution_count": 3,
     "metadata": {},
     "output_type": "execute_result"
    }
   ],
   "source": [
    "sales.dtypes\n",
    "# Convert date\n",
    "# Re-mapping state_holiday with get_dummies"
   ]
  },
  {
   "cell_type": "code",
   "execution_count": 4,
   "id": "03f78c32",
   "metadata": {},
   "outputs": [
    {
     "name": "stdout",
     "output_type": "stream",
     "text": [
      "<class 'pandas.core.frame.DataFrame'>\n",
      "Int64Index: 640840 entries, 425390 to 305711\n",
      "Data columns (total 9 columns):\n",
      " #   Column               Non-Null Count   Dtype \n",
      "---  ------               --------------   ----- \n",
      " 0   store_ID             640840 non-null  int64 \n",
      " 1   day_of_week          640840 non-null  int64 \n",
      " 2   date                 640840 non-null  object\n",
      " 3   nb_customers_on_day  640840 non-null  int64 \n",
      " 4   open                 640840 non-null  int64 \n",
      " 5   promotion            640840 non-null  int64 \n",
      " 6   state_holiday        640840 non-null  object\n",
      " 7   school_holiday       640840 non-null  int64 \n",
      " 8   sales                640840 non-null  int64 \n",
      "dtypes: int64(7), object(2)\n",
      "memory usage: 48.9+ MB\n"
     ]
    }
   ],
   "source": [
    "sales.info()"
   ]
  },
  {
   "cell_type": "code",
   "execution_count": 5,
   "id": "52ba71eb",
   "metadata": {},
   "outputs": [],
   "source": [
    "import datetime \n",
    "sales[[\"Year\",\"Month\",\"Day\"]] = sales[\"date\"].str.split(\"-\", expand = True)\n",
    "sales[\"date\"]=pd.to_datetime(sales[\"date\"])"
   ]
  },
  {
   "cell_type": "code",
   "execution_count": 6,
   "id": "9d0d5e95",
   "metadata": {},
   "outputs": [],
   "source": [
    "sales.drop('date',axis=1,inplace=True)"
   ]
  },
  {
   "cell_type": "code",
   "execution_count": 7,
   "id": "c02f7c7a",
   "metadata": {},
   "outputs": [
    {
     "data": {
      "text/html": [
       "<div>\n",
       "<style scoped>\n",
       "    .dataframe tbody tr th:only-of-type {\n",
       "        vertical-align: middle;\n",
       "    }\n",
       "\n",
       "    .dataframe tbody tr th {\n",
       "        vertical-align: top;\n",
       "    }\n",
       "\n",
       "    .dataframe thead th {\n",
       "        text-align: right;\n",
       "    }\n",
       "</style>\n",
       "<table border=\"1\" class=\"dataframe\">\n",
       "  <thead>\n",
       "    <tr style=\"text-align: right;\">\n",
       "      <th></th>\n",
       "      <th>nb_customers_on_day</th>\n",
       "    </tr>\n",
       "    <tr>\n",
       "      <th>day_of_week</th>\n",
       "      <th></th>\n",
       "    </tr>\n",
       "  </thead>\n",
       "  <tbody>\n",
       "    <tr>\n",
       "      <th>1</th>\n",
       "      <td>812.724473</td>\n",
       "    </tr>\n",
       "    <tr>\n",
       "      <th>2</th>\n",
       "      <td>761.313712</td>\n",
       "    </tr>\n",
       "    <tr>\n",
       "      <th>3</th>\n",
       "      <td>721.166916</td>\n",
       "    </tr>\n",
       "    <tr>\n",
       "      <th>4</th>\n",
       "      <td>698.434165</td>\n",
       "    </tr>\n",
       "    <tr>\n",
       "      <th>5</th>\n",
       "      <td>742.724348</td>\n",
       "    </tr>\n",
       "    <tr>\n",
       "      <th>6</th>\n",
       "      <td>657.270157</td>\n",
       "    </tr>\n",
       "    <tr>\n",
       "      <th>7</th>\n",
       "      <td>36.959956</td>\n",
       "    </tr>\n",
       "  </tbody>\n",
       "</table>\n",
       "</div>"
      ],
      "text/plain": [
       "             nb_customers_on_day\n",
       "day_of_week                     \n",
       "1                     812.724473\n",
       "2                     761.313712\n",
       "3                     721.166916\n",
       "4                     698.434165\n",
       "5                     742.724348\n",
       "6                     657.270157\n",
       "7                      36.959956"
      ]
     },
     "execution_count": 7,
     "metadata": {},
     "output_type": "execute_result"
    }
   ],
   "source": [
    "# mean customers per Days of the week \n",
    "sales.groupby('day_of_week').agg({'nb_customers_on_day':'mean'})"
   ]
  },
  {
   "cell_type": "code",
   "execution_count": 8,
   "id": "182bdba1",
   "metadata": {},
   "outputs": [
    {
     "data": {
      "text/plain": [
       "0    621160\n",
       "a     12842\n",
       "b      4214\n",
       "c      2624\n",
       "Name: state_holiday, dtype: int64"
      ]
     },
     "execution_count": 8,
     "metadata": {},
     "output_type": "execute_result"
    }
   ],
   "source": [
    "# state_holiday : Encoded 0, a, b, c indicating if there was a state holiday at all (0 if not), \n",
    "#and otherwise, the number indicates which state holiday it was.\n",
    "sales['state_holiday'].value_counts()"
   ]
  },
  {
   "cell_type": "code",
   "execution_count": 9,
   "id": "e6f8e806",
   "metadata": {},
   "outputs": [],
   "source": [
    "# Checking if state_holiday a-b-c should be removed\n",
    "#sales[sales['open']==0][['open','school_holiday','state_holiday_0','state_holiday_a','state_holiday_b','state_holiday_c']]"
   ]
  },
  {
   "cell_type": "code",
   "execution_count": 10,
   "id": "9fc816f8",
   "metadata": {},
   "outputs": [
    {
     "data": {
      "text/html": [
       "<div>\n",
       "<style scoped>\n",
       "    .dataframe tbody tr th:only-of-type {\n",
       "        vertical-align: middle;\n",
       "    }\n",
       "\n",
       "    .dataframe tbody tr th {\n",
       "        vertical-align: top;\n",
       "    }\n",
       "\n",
       "    .dataframe thead th {\n",
       "        text-align: right;\n",
       "    }\n",
       "</style>\n",
       "<table border=\"1\" class=\"dataframe\">\n",
       "  <thead>\n",
       "    <tr style=\"text-align: right;\">\n",
       "      <th></th>\n",
       "      <th>store_ID</th>\n",
       "      <th>day_of_week</th>\n",
       "      <th>nb_customers_on_day</th>\n",
       "      <th>promotion</th>\n",
       "      <th>school_holiday</th>\n",
       "      <th>sales</th>\n",
       "      <th>Year</th>\n",
       "      <th>Month</th>\n",
       "      <th>Day</th>\n",
       "      <th>state_holiday_0</th>\n",
       "    </tr>\n",
       "    <tr>\n",
       "      <th>index</th>\n",
       "      <th></th>\n",
       "      <th></th>\n",
       "      <th></th>\n",
       "      <th></th>\n",
       "      <th></th>\n",
       "      <th></th>\n",
       "      <th></th>\n",
       "      <th></th>\n",
       "      <th></th>\n",
       "      <th></th>\n",
       "    </tr>\n",
       "  </thead>\n",
       "  <tbody>\n",
       "    <tr>\n",
       "      <th>425390</th>\n",
       "      <td>366</td>\n",
       "      <td>4</td>\n",
       "      <td>517</td>\n",
       "      <td>0</td>\n",
       "      <td>0</td>\n",
       "      <td>4422</td>\n",
       "      <td>2013</td>\n",
       "      <td>04</td>\n",
       "      <td>18</td>\n",
       "      <td>1</td>\n",
       "    </tr>\n",
       "    <tr>\n",
       "      <th>291687</th>\n",
       "      <td>394</td>\n",
       "      <td>6</td>\n",
       "      <td>694</td>\n",
       "      <td>0</td>\n",
       "      <td>0</td>\n",
       "      <td>8297</td>\n",
       "      <td>2015</td>\n",
       "      <td>04</td>\n",
       "      <td>11</td>\n",
       "      <td>1</td>\n",
       "    </tr>\n",
       "    <tr>\n",
       "      <th>411278</th>\n",
       "      <td>807</td>\n",
       "      <td>4</td>\n",
       "      <td>970</td>\n",
       "      <td>1</td>\n",
       "      <td>0</td>\n",
       "      <td>9729</td>\n",
       "      <td>2013</td>\n",
       "      <td>08</td>\n",
       "      <td>29</td>\n",
       "      <td>1</td>\n",
       "    </tr>\n",
       "    <tr>\n",
       "      <th>664714</th>\n",
       "      <td>802</td>\n",
       "      <td>2</td>\n",
       "      <td>473</td>\n",
       "      <td>1</td>\n",
       "      <td>0</td>\n",
       "      <td>6513</td>\n",
       "      <td>2013</td>\n",
       "      <td>05</td>\n",
       "      <td>28</td>\n",
       "      <td>1</td>\n",
       "    </tr>\n",
       "    <tr>\n",
       "      <th>540835</th>\n",
       "      <td>726</td>\n",
       "      <td>4</td>\n",
       "      <td>1068</td>\n",
       "      <td>1</td>\n",
       "      <td>0</td>\n",
       "      <td>10882</td>\n",
       "      <td>2013</td>\n",
       "      <td>10</td>\n",
       "      <td>10</td>\n",
       "      <td>1</td>\n",
       "    </tr>\n",
       "  </tbody>\n",
       "</table>\n",
       "</div>"
      ],
      "text/plain": [
       "        store_ID  day_of_week  nb_customers_on_day  promotion  school_holiday  \\\n",
       "index                                                                           \n",
       "425390       366            4                  517          0               0   \n",
       "291687       394            6                  694          0               0   \n",
       "411278       807            4                  970          1               0   \n",
       "664714       802            2                  473          1               0   \n",
       "540835       726            4                 1068          1               0   \n",
       "\n",
       "        sales  Year Month Day  state_holiday_0  \n",
       "index                                           \n",
       "425390   4422  2013    04  18                1  \n",
       "291687   8297  2015    04  11                1  \n",
       "411278   9729  2013    08  29                1  \n",
       "664714   6513  2013    05  28                1  \n",
       "540835  10882  2013    10  10                1  "
      ]
     },
     "execution_count": 10,
     "metadata": {},
     "output_type": "execute_result"
    }
   ],
   "source": [
    "sales_dummies = pd.get_dummies(sales, columns = ['state_holiday'])\n",
    "sales_dummies.drop(['open','state_holiday_a','state_holiday_b','state_holiday_c'],axis=1,inplace=True)\n",
    "sales_dummies = sales_dummies[sales_dummies['sales']!=0]\n",
    "sales_dummies.head()\n",
    "\n",
    "# Without sales\n",
    "#sales_dummies[sales_dummies['sales']==0]\n",
    "\n",
    "# Without sales and open\n",
    "#sales_dummies[(sales_dummies['sales']==0)&(sales_dummies['open']==1)].shape\n",
    "\n",
    "#display(sales_dummies['state_holiday_0'].value_counts())\n",
    "#display(sales_dummies['state_holiday_a'].value_counts())\n",
    "#display(sales_dummies['state_holiday_b'].value_counts())\n",
    "#display(sales_dummies['state_holiday_c'].value_counts())"
   ]
  },
  {
   "cell_type": "code",
   "execution_count": 11,
   "id": "8f034f6e",
   "metadata": {},
   "outputs": [
    {
     "data": {
      "text/plain": [
       "store_ID               int64\n",
       "day_of_week            int64\n",
       "nb_customers_on_day    int64\n",
       "promotion              int64\n",
       "school_holiday         int64\n",
       "sales                  int64\n",
       "Year                   int64\n",
       "Month                  int64\n",
       "Day                    int64\n",
       "state_holiday_0        uint8\n",
       "dtype: object"
      ]
     },
     "execution_count": 11,
     "metadata": {},
     "output_type": "execute_result"
    }
   ],
   "source": [
    "sales_dummies['Year'] = sales_dummies['Year'].astype(int)\n",
    "sales_dummies['Month'] = sales_dummies['Month'].astype(int)\n",
    "sales_dummies['Day'] = sales_dummies['Day'].astype(int)\n",
    "sales_dummies.dtypes"
   ]
  },
  {
   "cell_type": "code",
   "execution_count": 12,
   "id": "c8108471",
   "metadata": {},
   "outputs": [
    {
     "data": {
      "text/html": [
       "<div>\n",
       "<style scoped>\n",
       "    .dataframe tbody tr th:only-of-type {\n",
       "        vertical-align: middle;\n",
       "    }\n",
       "\n",
       "    .dataframe tbody tr th {\n",
       "        vertical-align: top;\n",
       "    }\n",
       "\n",
       "    .dataframe thead th {\n",
       "        text-align: right;\n",
       "    }\n",
       "</style>\n",
       "<table border=\"1\" class=\"dataframe\">\n",
       "  <thead>\n",
       "    <tr style=\"text-align: right;\">\n",
       "      <th></th>\n",
       "      <th>day_of_week</th>\n",
       "      <th>nb_customers_on_day</th>\n",
       "      <th>promotion</th>\n",
       "      <th>sales</th>\n",
       "      <th>school_holiday</th>\n",
       "      <th>state_holiday_0</th>\n",
       "    </tr>\n",
       "  </thead>\n",
       "  <tbody>\n",
       "    <tr>\n",
       "      <th>day_of_week</th>\n",
       "      <td>1.000000</td>\n",
       "      <td>-0.096492</td>\n",
       "      <td>-0.289307</td>\n",
       "      <td>-0.178065</td>\n",
       "      <td>-0.140424</td>\n",
       "      <td>0.002351</td>\n",
       "    </tr>\n",
       "    <tr>\n",
       "      <th>nb_customers_on_day</th>\n",
       "      <td>-0.096492</td>\n",
       "      <td>1.000000</td>\n",
       "      <td>0.182394</td>\n",
       "      <td>0.823659</td>\n",
       "      <td>0.025003</td>\n",
       "      <td>-0.050966</td>\n",
       "    </tr>\n",
       "    <tr>\n",
       "      <th>promotion</th>\n",
       "      <td>-0.289307</td>\n",
       "      <td>0.182394</td>\n",
       "      <td>1.000000</td>\n",
       "      <td>0.367512</td>\n",
       "      <td>0.028352</td>\n",
       "      <td>-0.002576</td>\n",
       "    </tr>\n",
       "    <tr>\n",
       "      <th>sales</th>\n",
       "      <td>-0.178065</td>\n",
       "      <td>0.823659</td>\n",
       "      <td>0.367512</td>\n",
       "      <td>1.000000</td>\n",
       "      <td>0.038637</td>\n",
       "      <td>-0.020768</td>\n",
       "    </tr>\n",
       "    <tr>\n",
       "      <th>school_holiday</th>\n",
       "      <td>-0.140424</td>\n",
       "      <td>0.025003</td>\n",
       "      <td>0.028352</td>\n",
       "      <td>0.038637</td>\n",
       "      <td>1.000000</td>\n",
       "      <td>-0.013590</td>\n",
       "    </tr>\n",
       "    <tr>\n",
       "      <th>state_holiday_0</th>\n",
       "      <td>0.002351</td>\n",
       "      <td>-0.050966</td>\n",
       "      <td>-0.002576</td>\n",
       "      <td>-0.020768</td>\n",
       "      <td>-0.013590</td>\n",
       "      <td>1.000000</td>\n",
       "    </tr>\n",
       "  </tbody>\n",
       "</table>\n",
       "</div>"
      ],
      "text/plain": [
       "                     day_of_week  nb_customers_on_day  promotion     sales  \\\n",
       "day_of_week             1.000000            -0.096492  -0.289307 -0.178065   \n",
       "nb_customers_on_day    -0.096492             1.000000   0.182394  0.823659   \n",
       "promotion              -0.289307             0.182394   1.000000  0.367512   \n",
       "sales                  -0.178065             0.823659   0.367512  1.000000   \n",
       "school_holiday         -0.140424             0.025003   0.028352  0.038637   \n",
       "state_holiday_0         0.002351            -0.050966  -0.002576 -0.020768   \n",
       "\n",
       "                     school_holiday  state_holiday_0  \n",
       "day_of_week               -0.140424         0.002351  \n",
       "nb_customers_on_day        0.025003        -0.050966  \n",
       "promotion                  0.028352        -0.002576  \n",
       "sales                      0.038637        -0.020768  \n",
       "school_holiday             1.000000        -0.013590  \n",
       "state_holiday_0           -0.013590         1.000000  "
      ]
     },
     "execution_count": 12,
     "metadata": {},
     "output_type": "execute_result"
    }
   ],
   "source": [
    "sales_corr = sales_dummies[['day_of_week','nb_customers_on_day','promotion','sales','school_holiday','state_holiday_0']].corr()\n",
    "sales_corr\n"
   ]
  },
  {
   "cell_type": "code",
   "execution_count": 13,
   "id": "76a25bff",
   "metadata": {},
   "outputs": [
    {
     "data": {
      "text/plain": [
       "<AxesSubplot:>"
      ]
     },
     "execution_count": 13,
     "metadata": {},
     "output_type": "execute_result"
    },
    {
     "data": {
      "image/png": "[encoded data removed]",
      "text/plain": [
       "<Figure size 432x288 with 2 Axes>"
      ]
     },
     "metadata": {
      "needs_background": "light"
     },
     "output_type": "display_data"
    }
   ],
   "source": [
    "sns.heatmap(sales_corr,annot=True, xticklabels = sales_corr.columns,yticklabels = sales_corr.columns)"
   ]
  },
  {
   "cell_type": "markdown",
   "id": "dfb89a53",
   "metadata": {},
   "source": [
    "Filtered only open days\n",
    "sales_open = sales_dummies[sales_dummies['open']==1]\n",
    "sales_open_corr = sales_open[['day_of_week','nb_customers_on_day','promotion','sales','school_holiday','state_holiday_0']].corr()\n",
    "sns.heatmap(sales_open_corr,annot=True, xticklabels = sales_open_corr.columns,yticklabels = sales_open_corr.columns)"
   ]
  },
  {
   "cell_type": "code",
   "execution_count": 14,
   "id": "ae90cc43",
   "metadata": {},
   "outputs": [
    {
     "data": {
      "text/plain": [
       "<AxesSubplot:>"
      ]
     },
     "execution_count": 14,
     "metadata": {},
     "output_type": "execute_result"
    },
    {
     "data": {
      "image/png": "[encoded data removed]",
      "text/plain": [
       "<Figure size 432x288 with 2 Axes>"
      ]
     },
     "metadata": {
      "needs_background": "light"
     },
     "output_type": "display_data"
    }
   ],
   "source": [
    "# Filtered only Mon-Sat\n",
    "sales_without_sunday = sales_dummies[sales_dummies['day_of_week']!=7]\n",
    "sales_without_sunday_corr = sales_without_sunday[['day_of_week','nb_customers_on_day','promotion','sales','school_holiday','state_holiday_0']].corr()\n",
    "sns.heatmap(sales_without_sunday_corr,annot=True, xticklabels = sales_without_sunday_corr.columns,yticklabels = sales_without_sunday_corr.columns)"
   ]
  },
  {
   "cell_type": "markdown",
   "id": "7428ca68",
   "metadata": {},
   "source": [
    "Filtered only open days & only Mon-Sat\n",
    "sales_open_without_sunday = sales_dummies[(sales_dummies['day_of_week']!=7) & (sales_dummies['open']==1)]\n",
    "sales_open_without_sunday_corr = sales_open_without_sunday[['day_of_week','nb_customers_on_day','promotion','sales','school_holiday','state_holiday_0']].corr()\n",
    "sns.heatmap(sales_open_without_sunday_corr,annot=True, xticklabels = sales_open_without_sunday_corr.columns,yticklabels = sales_open_without_sunday_corr.columns)"
   ]
  },
  {
   "cell_type": "code",
   "execution_count": 15,
   "id": "0cd9323d",
   "metadata": {},
   "outputs": [
    {
     "name": "stdout",
     "output_type": "stream",
     "text": [
      "without sunday\n"
     ]
    },
    {
     "data": {
      "text/html": [
       "<div>\n",
       "<style scoped>\n",
       "    .dataframe tbody tr th:only-of-type {\n",
       "        vertical-align: middle;\n",
       "    }\n",
       "\n",
       "    .dataframe tbody tr th {\n",
       "        vertical-align: top;\n",
       "    }\n",
       "\n",
       "    .dataframe thead th {\n",
       "        text-align: right;\n",
       "    }\n",
       "</style>\n",
       "<table border=\"1\" class=\"dataframe\">\n",
       "  <thead>\n",
       "    <tr style=\"text-align: right;\">\n",
       "      <th></th>\n",
       "      <th>nb_customers_on_day</th>\n",
       "    </tr>\n",
       "    <tr>\n",
       "      <th>day_of_week</th>\n",
       "      <th></th>\n",
       "    </tr>\n",
       "  </thead>\n",
       "  <tbody>\n",
       "    <tr>\n",
       "      <th>1</th>\n",
       "      <td>86454</td>\n",
       "    </tr>\n",
       "    <tr>\n",
       "      <th>2</th>\n",
       "      <td>90595</td>\n",
       "    </tr>\n",
       "    <tr>\n",
       "      <th>3</th>\n",
       "      <td>89272</td>\n",
       "    </tr>\n",
       "    <tr>\n",
       "      <th>4</th>\n",
       "      <td>84879</td>\n",
       "    </tr>\n",
       "    <tr>\n",
       "      <th>5</th>\n",
       "      <td>87574</td>\n",
       "    </tr>\n",
       "    <tr>\n",
       "      <th>6</th>\n",
       "      <td>90898</td>\n",
       "    </tr>\n",
       "  </tbody>\n",
       "</table>\n",
       "</div>"
      ],
      "text/plain": [
       "             nb_customers_on_day\n",
       "day_of_week                     \n",
       "1                          86454\n",
       "2                          90595\n",
       "3                          89272\n",
       "4                          84879\n",
       "5                          87574\n",
       "6                          90898"
      ]
     },
     "metadata": {},
     "output_type": "display_data"
    }
   ],
   "source": [
    "print('without sunday')\n",
    "display(sales_without_sunday.groupby('day_of_week').agg({'nb_customers_on_day':'count'}))\n",
    "#print('only open')\n",
    "#display(sales_open.groupby('day_of_week').agg({'nb_customers_on_day':'count'}))"
   ]
  },
  {
   "cell_type": "code",
   "execution_count": 16,
   "id": "385828cb",
   "metadata": {},
   "outputs": [],
   "source": [
    "#print('without sunday and open')\n",
    "#display(sales_dummies[(sales_dummies['day_of_week']!=7) & (sales_dummies['open']==1)]['sales'].mean())\n",
    "#print('only open')\n",
    "#display(sales_dummies[sales_dummies['open']==1]['sales'].mean())\n",
    "#print('only sundays')\n",
    "#display(sales_dummies[sales_dummies['day_of_week']==7]['sales'].mean())"
   ]
  },
  {
   "cell_type": "code",
   "execution_count": 17,
   "id": "a64707da",
   "metadata": {},
   "outputs": [],
   "source": [
    "sales_dummies.drop(['Year','Month','Day'],axis=1,inplace=True)"
   ]
  },
  {
   "cell_type": "code",
   "execution_count": 18,
   "id": "1360af13",
   "metadata": {},
   "outputs": [
    {
     "data": {
      "text/html": [
       "<div>\n",
       "<style scoped>\n",
       "    .dataframe tbody tr th:only-of-type {\n",
       "        vertical-align: middle;\n",
       "    }\n",
       "\n",
       "    .dataframe tbody tr th {\n",
       "        vertical-align: top;\n",
       "    }\n",
       "\n",
       "    .dataframe thead th {\n",
       "        text-align: right;\n",
       "    }\n",
       "</style>\n",
       "<table border=\"1\" class=\"dataframe\">\n",
       "  <thead>\n",
       "    <tr style=\"text-align: right;\">\n",
       "      <th></th>\n",
       "      <th>day_of_week</th>\n",
       "      <th>nb_customers_on_day</th>\n",
       "      <th>promotion</th>\n",
       "      <th>school_holiday</th>\n",
       "      <th>sales</th>\n",
       "      <th>state_holiday_0</th>\n",
       "    </tr>\n",
       "    <tr>\n",
       "      <th>index</th>\n",
       "      <th></th>\n",
       "      <th></th>\n",
       "      <th></th>\n",
       "      <th></th>\n",
       "      <th></th>\n",
       "      <th></th>\n",
       "    </tr>\n",
       "  </thead>\n",
       "  <tbody>\n",
       "    <tr>\n",
       "      <th>425390</th>\n",
       "      <td>4</td>\n",
       "      <td>517</td>\n",
       "      <td>0</td>\n",
       "      <td>0</td>\n",
       "      <td>4422</td>\n",
       "      <td>1</td>\n",
       "    </tr>\n",
       "    <tr>\n",
       "      <th>291687</th>\n",
       "      <td>6</td>\n",
       "      <td>694</td>\n",
       "      <td>0</td>\n",
       "      <td>0</td>\n",
       "      <td>8297</td>\n",
       "      <td>1</td>\n",
       "    </tr>\n",
       "    <tr>\n",
       "      <th>411278</th>\n",
       "      <td>4</td>\n",
       "      <td>970</td>\n",
       "      <td>1</td>\n",
       "      <td>0</td>\n",
       "      <td>9729</td>\n",
       "      <td>1</td>\n",
       "    </tr>\n",
       "    <tr>\n",
       "      <th>664714</th>\n",
       "      <td>2</td>\n",
       "      <td>473</td>\n",
       "      <td>1</td>\n",
       "      <td>0</td>\n",
       "      <td>6513</td>\n",
       "      <td>1</td>\n",
       "    </tr>\n",
       "    <tr>\n",
       "      <th>540835</th>\n",
       "      <td>4</td>\n",
       "      <td>1068</td>\n",
       "      <td>1</td>\n",
       "      <td>0</td>\n",
       "      <td>10882</td>\n",
       "      <td>1</td>\n",
       "    </tr>\n",
       "  </tbody>\n",
       "</table>\n",
       "</div>"
      ],
      "text/plain": [
       "        day_of_week  nb_customers_on_day  promotion  school_holiday  sales  \\\n",
       "index                                                                        \n",
       "425390            4                  517          0               0   4422   \n",
       "291687            6                  694          0               0   8297   \n",
       "411278            4                  970          1               0   9729   \n",
       "664714            2                  473          1               0   6513   \n",
       "540835            4                 1068          1               0  10882   \n",
       "\n",
       "        state_holiday_0  \n",
       "index                    \n",
       "425390                1  \n",
       "291687                1  \n",
       "411278                1  \n",
       "664714                1  \n",
       "540835                1  "
      ]
     },
     "execution_count": 18,
     "metadata": {},
     "output_type": "execute_result"
    }
   ],
   "source": [
    "sales_train = sales_dummies[['day_of_week','nb_customers_on_day','promotion','school_holiday','sales','state_holiday_0']]\n",
    "sales_train.head()"
   ]
  },
  {
   "cell_type": "code",
   "execution_count": 19,
   "id": "3c58bc46",
   "metadata": {},
   "outputs": [],
   "source": [
    "X = sales_train.drop(['sales'], axis = 1)\n",
    "y = sales_train['sales']\n",
    "X_train, X_test, y_train, y_test = train_test_split(X, y, random_state = 1)"
   ]
  },
  {
   "cell_type": "markdown",
   "id": "17947e29",
   "metadata": {},
   "source": [
    "gb_reg = GradientBoostingRegressor(max_depth=5, #gradient boosting always works with trees, no need to call the tree regressor\n",
    "                                   n_estimators=100,\n",
    "                                   random_state=1 # tastes like chicken\n",
    "                                   )\n",
    "gb_reg.fit(X_train, y_train)\n",
    "gb_reg.score(X_test,y_test)"
   ]
  },
  {
   "cell_type": "markdown",
   "id": "91d3a6ae",
   "metadata": {},
   "source": [
    "from sklearn.model_selection import cross_validate\n",
    "results = cross_validate(xgb_reg,X,y, cv = 20)\n",
    "print(results['test_score'].mean())\n",
    "results['test_score']"
   ]
  },
  {
   "cell_type": "code",
   "execution_count": 20,
   "id": "648ba96a",
   "metadata": {},
   "outputs": [
    {
     "data": {
      "text/plain": [
       "0.7684911980721623"
      ]
     },
     "execution_count": 20,
     "metadata": {},
     "output_type": "execute_result"
    }
   ],
   "source": [
    "import xgboost\n",
    "xgb_reg = xgboost.XGBRegressor()\n",
    "xgb_reg.fit(X_train, y_train)\n",
    "xgb_reg.score(X_test,y_test)"
   ]
  },
  {
   "cell_type": "code",
   "execution_count": 21,
   "id": "081f92d2",
   "metadata": {},
   "outputs": [],
   "source": [
    "def dataset_ready(dataset):\n",
    "    sales = pd.read_csv(dataset)\n",
    "    sales.rename(columns={'Unnamed: 0':'index'},inplace=True)\n",
    "    sales.set_index('index',inplace=True)\n",
    "    sales.drop('date',axis=1,inplace=True)\n",
    "    if 'sales' in sales.columns:\n",
    "        sales_dummies = pd.get_dummies(sales, columns = ['state_holiday'])\n",
    "        sales_dummies.drop(['open','state_holiday_a','state_holiday_b','state_holiday_c'],axis=1,inplace=True)\n",
    "        sales_dummies = sales_dummies[sales_dummies['sales']!=0] \n",
    "        sales_train = sales_dummies[['day_of_week','nb_customers_on_day','promotion','school_holiday','sales','state_holiday_0']]\n",
    "        return sales_train\n",
    "    else:\n",
    "        sales_dummies = pd.get_dummies(sales, columns = ['state_holiday'])\n",
    "        sales_dummies.drop(['open','state_holiday_a','state_holiday_b','state_holiday_c'],axis=1,inplace=True)\n",
    "        sales_train = sales_dummies[['day_of_week','nb_customers_on_day','promotion','school_holiday','state_holiday_0']]\n",
    "        return sales_train"
   ]
  },
  {
   "cell_type": "code",
   "execution_count": 23,
   "id": "43768cc1",
   "metadata": {},
   "outputs": [
    {
     "data": {
      "text/html": [
       "<div>\n",
       "<style scoped>\n",
       "    .dataframe tbody tr th:only-of-type {\n",
       "        vertical-align: middle;\n",
       "    }\n",
       "\n",
       "    .dataframe tbody tr th {\n",
       "        vertical-align: top;\n",
       "    }\n",
       "\n",
       "    .dataframe thead th {\n",
       "        text-align: right;\n",
       "    }\n",
       "</style>\n",
       "<table border=\"1\" class=\"dataframe\">\n",
       "  <thead>\n",
       "    <tr style=\"text-align: right;\">\n",
       "      <th></th>\n",
       "      <th>day_of_week</th>\n",
       "      <th>nb_customers_on_day</th>\n",
       "      <th>promotion</th>\n",
       "      <th>school_holiday</th>\n",
       "      <th>state_holiday_0</th>\n",
       "    </tr>\n",
       "    <tr>\n",
       "      <th>index</th>\n",
       "      <th></th>\n",
       "      <th></th>\n",
       "      <th></th>\n",
       "      <th></th>\n",
       "      <th></th>\n",
       "    </tr>\n",
       "  </thead>\n",
       "  <tbody>\n",
       "    <tr>\n",
       "      <th>272371</th>\n",
       "      <td>7</td>\n",
       "      <td>0</td>\n",
       "      <td>0</td>\n",
       "      <td>0</td>\n",
       "      <td>1</td>\n",
       "    </tr>\n",
       "    <tr>\n",
       "      <th>558468</th>\n",
       "      <td>7</td>\n",
       "      <td>0</td>\n",
       "      <td>0</td>\n",
       "      <td>0</td>\n",
       "      <td>1</td>\n",
       "    </tr>\n",
       "    <tr>\n",
       "      <th>76950</th>\n",
       "      <td>3</td>\n",
       "      <td>657</td>\n",
       "      <td>1</td>\n",
       "      <td>0</td>\n",
       "      <td>1</td>\n",
       "    </tr>\n",
       "    <tr>\n",
       "      <th>77556</th>\n",
       "      <td>2</td>\n",
       "      <td>862</td>\n",
       "      <td>0</td>\n",
       "      <td>0</td>\n",
       "      <td>1</td>\n",
       "    </tr>\n",
       "    <tr>\n",
       "      <th>456344</th>\n",
       "      <td>3</td>\n",
       "      <td>591</td>\n",
       "      <td>1</td>\n",
       "      <td>0</td>\n",
       "      <td>1</td>\n",
       "    </tr>\n",
       "  </tbody>\n",
       "</table>\n",
       "</div>"
      ],
      "text/plain": [
       "        day_of_week  nb_customers_on_day  promotion  school_holiday  \\\n",
       "index                                                                 \n",
       "272371            7                    0          0               0   \n",
       "558468            7                    0          0               0   \n",
       "76950             3                  657          1               0   \n",
       "77556             2                  862          0               0   \n",
       "456344            3                  591          1               0   \n",
       "\n",
       "        state_holiday_0  \n",
       "index                    \n",
       "272371                1  \n",
       "558468                1  \n",
       "76950                 1  \n",
       "77556                 1  \n",
       "456344                1  "
      ]
     },
     "execution_count": 23,
     "metadata": {},
     "output_type": "execute_result"
    }
   ],
   "source": [
    "x_val = dataset_ready('validation_for students.csv')\n",
    "x_val.head()"
   ]
  },
  {
   "cell_type": "code",
   "execution_count": 24,
   "id": "f41e9fa8",
   "metadata": {},
   "outputs": [
    {
     "data": {
      "text/plain": [
       "array([ 446.41458,  446.41458, 6792.641  , ..., 5536.2876 , 6752.9404 ,\n",
       "       7893.0728 ], dtype=float32)"
      ]
     },
     "execution_count": 24,
     "metadata": {},
     "output_type": "execute_result"
    }
   ],
   "source": [
    "ypred_validation = xgb_reg.predict(x_val)\n",
    "ypred_validation"
   ]
  },
  {
   "cell_type": "code",
   "execution_count": 25,
   "id": "74b71f31",
   "metadata": {},
   "outputs": [
    {
     "data": {
      "text/html": [
       "<div>\n",
       "<style scoped>\n",
       "    .dataframe tbody tr th:only-of-type {\n",
       "        vertical-align: middle;\n",
       "    }\n",
       "\n",
       "    .dataframe tbody tr th {\n",
       "        vertical-align: top;\n",
       "    }\n",
       "\n",
       "    .dataframe thead th {\n",
       "        text-align: right;\n",
       "    }\n",
       "</style>\n",
       "<table border=\"1\" class=\"dataframe\">\n",
       "  <thead>\n",
       "    <tr style=\"text-align: right;\">\n",
       "      <th></th>\n",
       "      <th>sales</th>\n",
       "    </tr>\n",
       "    <tr>\n",
       "      <th>index</th>\n",
       "      <th></th>\n",
       "    </tr>\n",
       "  </thead>\n",
       "  <tbody>\n",
       "    <tr>\n",
       "      <th>272371</th>\n",
       "      <td>446.414581</td>\n",
       "    </tr>\n",
       "    <tr>\n",
       "      <th>558468</th>\n",
       "      <td>446.414581</td>\n",
       "    </tr>\n",
       "    <tr>\n",
       "      <th>76950</th>\n",
       "      <td>6792.641113</td>\n",
       "    </tr>\n",
       "    <tr>\n",
       "      <th>77556</th>\n",
       "      <td>6684.396973</td>\n",
       "    </tr>\n",
       "    <tr>\n",
       "      <th>456344</th>\n",
       "      <td>6299.182129</td>\n",
       "    </tr>\n",
       "  </tbody>\n",
       "</table>\n",
       "</div>"
      ],
      "text/plain": [
       "              sales\n",
       "index              \n",
       "272371   446.414581\n",
       "558468   446.414581\n",
       "76950   6792.641113\n",
       "77556   6684.396973\n",
       "456344  6299.182129"
      ]
     },
     "execution_count": 25,
     "metadata": {},
     "output_type": "execute_result"
    }
   ],
   "source": [
    "x_val['sales'] = ypred_validation\n",
    "x_val.drop(['day_of_week','nb_customers_on_day','promotion','school_holiday','state_holiday_0'],axis=1,inplace=True)\n",
    "x_val.head()"
   ]
  },
  {
   "cell_type": "code",
   "execution_count": 26,
   "id": "c5fbdb9f",
   "metadata": {},
   "outputs": [],
   "source": [
    "x_val.to_csv('output_sample.csv')"
   ]
  },
  {
   "cell_type": "code",
   "execution_count": 28,
   "id": "0b032105",
   "metadata": {},
   "outputs": [
    {
     "ename": "AttributeError",
     "evalue": "'str' object has no attribute 'to_pickle'",
     "output_type": "error",
     "traceback": [
      "\u001b[0;31m---------------------------------------------------------------------------\u001b[0m",
      "\u001b[0;31mAttributeError\u001b[0m                            Traceback (most recent call last)",
      "\u001b[0;32m/var/folders/67/cphn2wq14gz2x5k1nw4bk9c00000gn/T/ipykernel_58004/3593975917.py\u001b[0m in \u001b[0;36m<module>\u001b[0;34m\u001b[0m\n\u001b[1;32m      1\u001b[0m \u001b[0mpickle\u001b[0m\u001b[0;34m.\u001b[0m\u001b[0mdump\u001b[0m\u001b[0;34m(\u001b[0m\u001b[0mxgb_reg\u001b[0m\u001b[0;34m,\u001b[0m \u001b[0mopen\u001b[0m\u001b[0;34m(\u001b[0m\u001b[0;34m'model_group2.p'\u001b[0m\u001b[0;34m,\u001b[0m \u001b[0;34m'wb'\u001b[0m\u001b[0;34m)\u001b[0m\u001b[0;34m)\u001b[0m\u001b[0;34m\u001b[0m\u001b[0;34m\u001b[0m\u001b[0m\n\u001b[0;32m----> 2\u001b[0;31m \u001b[0mfeature_engineering_func\u001b[0m\u001b[0;34m(\u001b[0m\u001b[0;34m)\u001b[0m\u001b[0;34m.\u001b[0m\u001b[0mto_pickle\u001b[0m\u001b[0;34m(\u001b[0m\u001b[0;34m'feature_engineering_group2.p'\u001b[0m\u001b[0;34m)\u001b[0m\u001b[0;34m\u001b[0m\u001b[0;34m\u001b[0m\u001b[0m\n\u001b[0m",
      "\u001b[0;31mAttributeError\u001b[0m: 'str' object has no attribute 'to_pickle'"
     ]
    }
   ],
   "source": [
    "pickle.dump(xgb_reg, open('model_group2.p', 'wb'))\n",
    "#feature_engineering_func().to_pickle('feature_engineering_group2.p')"
   ]
  },
  {
   "cell_type": "code",
   "execution_count": null,
   "id": "66cd459d",
   "metadata": {},
   "outputs": [],
   "source": [
    "#dataset_ready('validation_for students.csv').to_csv('sales_group2.csv')"
   ]
  }
 ],
 "metadata": {
  "kernelspec": {
   "display_name": "Python 3 (ipykernel)",
   "language": "python",
   "name": "python3"
  },
  "language_info": {
   "codemirror_mode": {
    "name": "ipython",
    "version": 3
   },
   "file_extension": ".py",
   "mimetype": "text/x-python",
   "name": "python",
   "nbconvert_exporter": "python",
   "pygments_lexer": "ipython3",
   "version": "3.9.7"
  }
 },
 "nbformat": 4,
 "nbformat_minor": 5
}
